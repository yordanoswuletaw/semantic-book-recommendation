{
 "cells": [
  {
   "cell_type": "code",
   "execution_count": 32,
   "metadata": {},
   "outputs": [],
   "source": [
    "import numpy as np\n",
    "import pandas as pd \n",
    "from transformers import pipeline"
   ]
  },
  {
   "cell_type": "code",
   "execution_count": 3,
   "metadata": {},
   "outputs": [],
   "source": [
    "books = pd.read_csv('../data/books_cleaned.csv')"
   ]
  },
  {
   "cell_type": "code",
   "execution_count": 18,
   "metadata": {},
   "outputs": [
    {
     "data": {
      "text/html": [
       "<div>\n",
       "<style scoped>\n",
       "    .dataframe tbody tr th:only-of-type {\n",
       "        vertical-align: middle;\n",
       "    }\n",
       "\n",
       "    .dataframe tbody tr th {\n",
       "        vertical-align: top;\n",
       "    }\n",
       "\n",
       "    .dataframe thead th {\n",
       "        text-align: right;\n",
       "    }\n",
       "</style>\n",
       "<table border=\"1\" class=\"dataframe\">\n",
       "  <thead>\n",
       "    <tr style=\"text-align: right;\">\n",
       "      <th></th>\n",
       "      <th>categories</th>\n",
       "      <th>count</th>\n",
       "    </tr>\n",
       "  </thead>\n",
       "  <tbody>\n",
       "    <tr>\n",
       "      <th>0</th>\n",
       "      <td>Fiction</td>\n",
       "      <td>2111</td>\n",
       "    </tr>\n",
       "    <tr>\n",
       "      <th>1</th>\n",
       "      <td>Juvenile Fiction</td>\n",
       "      <td>390</td>\n",
       "    </tr>\n",
       "    <tr>\n",
       "      <th>2</th>\n",
       "      <td>Biography &amp; Autobiography</td>\n",
       "      <td>311</td>\n",
       "    </tr>\n",
       "    <tr>\n",
       "      <th>3</th>\n",
       "      <td>History</td>\n",
       "      <td>207</td>\n",
       "    </tr>\n",
       "    <tr>\n",
       "      <th>4</th>\n",
       "      <td>Literary Criticism</td>\n",
       "      <td>124</td>\n",
       "    </tr>\n",
       "    <tr>\n",
       "      <th>5</th>\n",
       "      <td>Philosophy</td>\n",
       "      <td>117</td>\n",
       "    </tr>\n",
       "    <tr>\n",
       "      <th>6</th>\n",
       "      <td>Religion</td>\n",
       "      <td>117</td>\n",
       "    </tr>\n",
       "    <tr>\n",
       "      <th>7</th>\n",
       "      <td>Comics &amp; Graphic Novels</td>\n",
       "      <td>116</td>\n",
       "    </tr>\n",
       "    <tr>\n",
       "      <th>8</th>\n",
       "      <td>Drama</td>\n",
       "      <td>86</td>\n",
       "    </tr>\n",
       "    <tr>\n",
       "      <th>9</th>\n",
       "      <td>Juvenile Nonfiction</td>\n",
       "      <td>57</td>\n",
       "    </tr>\n",
       "    <tr>\n",
       "      <th>10</th>\n",
       "      <td>Science</td>\n",
       "      <td>56</td>\n",
       "    </tr>\n",
       "    <tr>\n",
       "      <th>11</th>\n",
       "      <td>Poetry</td>\n",
       "      <td>51</td>\n",
       "    </tr>\n",
       "  </tbody>\n",
       "</table>\n",
       "</div>"
      ],
      "text/plain": [
       "                   categories  count\n",
       "0                     Fiction   2111\n",
       "1            Juvenile Fiction    390\n",
       "2   Biography & Autobiography    311\n",
       "3                     History    207\n",
       "4          Literary Criticism    124\n",
       "5                  Philosophy    117\n",
       "6                    Religion    117\n",
       "7     Comics & Graphic Novels    116\n",
       "8                       Drama     86\n",
       "9         Juvenile Nonfiction     57\n",
       "10                    Science     56\n",
       "11                     Poetry     51"
      ]
     },
     "execution_count": 18,
     "metadata": {},
     "output_type": "execute_result"
    }
   ],
   "source": [
    "books['categories'].value_counts().reset_index().query('count > 50')"
   ]
  },
  {
   "cell_type": "code",
   "execution_count": 14,
   "metadata": {},
   "outputs": [
    {
     "data": {
      "text/html": [
       "<div>\n",
       "<style scoped>\n",
       "    .dataframe tbody tr th:only-of-type {\n",
       "        vertical-align: middle;\n",
       "    }\n",
       "\n",
       "    .dataframe tbody tr th {\n",
       "        vertical-align: top;\n",
       "    }\n",
       "\n",
       "    .dataframe thead th {\n",
       "        text-align: right;\n",
       "    }\n",
       "</style>\n",
       "<table border=\"1\" class=\"dataframe\">\n",
       "  <thead>\n",
       "    <tr style=\"text-align: right;\">\n",
       "      <th></th>\n",
       "      <th>isbn13</th>\n",
       "      <th>isbn10</th>\n",
       "      <th>title</th>\n",
       "      <th>authors</th>\n",
       "      <th>categories</th>\n",
       "      <th>thumbnail</th>\n",
       "      <th>description</th>\n",
       "      <th>published_year</th>\n",
       "      <th>average_rating</th>\n",
       "      <th>num_pages</th>\n",
       "      <th>ratings_count</th>\n",
       "      <th>title_and_subtitle</th>\n",
       "      <th>tagged_description</th>\n",
       "    </tr>\n",
       "  </thead>\n",
       "  <tbody>\n",
       "    <tr>\n",
       "      <th>30</th>\n",
       "      <td>9780006646006</td>\n",
       "      <td>000664600X</td>\n",
       "      <td>Ocean Star Express</td>\n",
       "      <td>Mark Haddon;Peter Sutton</td>\n",
       "      <td>Juvenile Fiction</td>\n",
       "      <td>http://books.google.com/books/content?id=I2QZA...</td>\n",
       "      <td>Joe and his parents are enjoying a summer holi...</td>\n",
       "      <td>2002.0</td>\n",
       "      <td>3.50</td>\n",
       "      <td>32.0</td>\n",
       "      <td>1.0</td>\n",
       "      <td>Ocean Star Express</td>\n",
       "      <td>9780006646006 Joe and his parents are enjoying...</td>\n",
       "    </tr>\n",
       "    <tr>\n",
       "      <th>79</th>\n",
       "      <td>9780020442608</td>\n",
       "      <td>0020442602</td>\n",
       "      <td>The voyage of the Dawn Treader</td>\n",
       "      <td>Clive Staples Lewis</td>\n",
       "      <td>Juvenile Fiction</td>\n",
       "      <td>http://books.google.com/books/content?id=fDD3C...</td>\n",
       "      <td>The \"Dawn Treader\" is the first ship Narnia ha...</td>\n",
       "      <td>1970.0</td>\n",
       "      <td>4.09</td>\n",
       "      <td>216.0</td>\n",
       "      <td>2869.0</td>\n",
       "      <td>The voyage of the Dawn Treader</td>\n",
       "      <td>9780020442608 The \"Dawn Treader\" is the first ...</td>\n",
       "    </tr>\n",
       "    <tr>\n",
       "      <th>85</th>\n",
       "      <td>9780030547744</td>\n",
       "      <td>0030547741</td>\n",
       "      <td>Where the Red Fern Grows</td>\n",
       "      <td>Wilson Rawls</td>\n",
       "      <td>Juvenile Fiction</td>\n",
       "      <td>http://books.google.com/books/content?id=IHpRw...</td>\n",
       "      <td>A young boy living in the Ozarks achieves his ...</td>\n",
       "      <td>2000.0</td>\n",
       "      <td>4.37</td>\n",
       "      <td>288.0</td>\n",
       "      <td>95.0</td>\n",
       "      <td>Where the Red Fern Grows:The Story of Two Dogs...</td>\n",
       "      <td>9780030547744 A young boy living in the Ozarks...</td>\n",
       "    </tr>\n",
       "    <tr>\n",
       "      <th>86</th>\n",
       "      <td>9780060000141</td>\n",
       "      <td>0060000147</td>\n",
       "      <td>Poppy's Return</td>\n",
       "      <td>Avi</td>\n",
       "      <td>Juvenile Fiction</td>\n",
       "      <td>http://books.google.com/books/content?id=XbcMJ...</td>\n",
       "      <td>There's trouble at Gray House, the girlhood ho...</td>\n",
       "      <td>2006.0</td>\n",
       "      <td>3.99</td>\n",
       "      <td>256.0</td>\n",
       "      <td>1086.0</td>\n",
       "      <td>Poppy's Return</td>\n",
       "      <td>9780060000141 There's trouble at Gray House, t...</td>\n",
       "    </tr>\n",
       "    <tr>\n",
       "      <th>87</th>\n",
       "      <td>9780060001537</td>\n",
       "      <td>0060001534</td>\n",
       "      <td>Diary of a Spider</td>\n",
       "      <td>Doreen Cronin</td>\n",
       "      <td>Juvenile Fiction</td>\n",
       "      <td>http://books.google.com/books/content?id=UWvZo...</td>\n",
       "      <td>This is the diary ... of a spider. But don't b...</td>\n",
       "      <td>2005.0</td>\n",
       "      <td>4.25</td>\n",
       "      <td>40.0</td>\n",
       "      <td>7903.0</td>\n",
       "      <td>Diary of a Spider</td>\n",
       "      <td>9780060001537 This is the diary ... of a spide...</td>\n",
       "    </tr>\n",
       "  </tbody>\n",
       "</table>\n",
       "</div>"
      ],
      "text/plain": [
       "           isbn13      isbn10                           title  \\\n",
       "30  9780006646006  000664600X              Ocean Star Express   \n",
       "79  9780020442608  0020442602  The voyage of the Dawn Treader   \n",
       "85  9780030547744  0030547741        Where the Red Fern Grows   \n",
       "86  9780060000141  0060000147                  Poppy's Return   \n",
       "87  9780060001537  0060001534               Diary of a Spider   \n",
       "\n",
       "                     authors        categories  \\\n",
       "30  Mark Haddon;Peter Sutton  Juvenile Fiction   \n",
       "79       Clive Staples Lewis  Juvenile Fiction   \n",
       "85              Wilson Rawls  Juvenile Fiction   \n",
       "86                       Avi  Juvenile Fiction   \n",
       "87             Doreen Cronin  Juvenile Fiction   \n",
       "\n",
       "                                            thumbnail  \\\n",
       "30  http://books.google.com/books/content?id=I2QZA...   \n",
       "79  http://books.google.com/books/content?id=fDD3C...   \n",
       "85  http://books.google.com/books/content?id=IHpRw...   \n",
       "86  http://books.google.com/books/content?id=XbcMJ...   \n",
       "87  http://books.google.com/books/content?id=UWvZo...   \n",
       "\n",
       "                                          description  published_year  \\\n",
       "30  Joe and his parents are enjoying a summer holi...          2002.0   \n",
       "79  The \"Dawn Treader\" is the first ship Narnia ha...          1970.0   \n",
       "85  A young boy living in the Ozarks achieves his ...          2000.0   \n",
       "86  There's trouble at Gray House, the girlhood ho...          2006.0   \n",
       "87  This is the diary ... of a spider. But don't b...          2005.0   \n",
       "\n",
       "    average_rating  num_pages  ratings_count  \\\n",
       "30            3.50       32.0            1.0   \n",
       "79            4.09      216.0         2869.0   \n",
       "85            4.37      288.0           95.0   \n",
       "86            3.99      256.0         1086.0   \n",
       "87            4.25       40.0         7903.0   \n",
       "\n",
       "                                   title_and_subtitle  \\\n",
       "30                                 Ocean Star Express   \n",
       "79                     The voyage of the Dawn Treader   \n",
       "85  Where the Red Fern Grows:The Story of Two Dogs...   \n",
       "86                                     Poppy's Return   \n",
       "87                                  Diary of a Spider   \n",
       "\n",
       "                                   tagged_description  \n",
       "30  9780006646006 Joe and his parents are enjoying...  \n",
       "79  9780020442608 The \"Dawn Treader\" is the first ...  \n",
       "85  9780030547744 A young boy living in the Ozarks...  \n",
       "86  9780060000141 There's trouble at Gray House, t...  \n",
       "87  9780060001537 This is the diary ... of a spide...  "
      ]
     },
     "execution_count": 14,
     "metadata": {},
     "output_type": "execute_result"
    }
   ],
   "source": [
    "books[books['categories'] == 'Juvenile Fiction'].head()"
   ]
  },
  {
   "cell_type": "code",
   "execution_count": 13,
   "metadata": {},
   "outputs": [
    {
     "data": {
      "text/html": [
       "<div>\n",
       "<style scoped>\n",
       "    .dataframe tbody tr th:only-of-type {\n",
       "        vertical-align: middle;\n",
       "    }\n",
       "\n",
       "    .dataframe tbody tr th {\n",
       "        vertical-align: top;\n",
       "    }\n",
       "\n",
       "    .dataframe thead th {\n",
       "        text-align: right;\n",
       "    }\n",
       "</style>\n",
       "<table border=\"1\" class=\"dataframe\">\n",
       "  <thead>\n",
       "    <tr style=\"text-align: right;\">\n",
       "      <th></th>\n",
       "      <th>isbn13</th>\n",
       "      <th>isbn10</th>\n",
       "      <th>title</th>\n",
       "      <th>authors</th>\n",
       "      <th>categories</th>\n",
       "      <th>thumbnail</th>\n",
       "      <th>description</th>\n",
       "      <th>published_year</th>\n",
       "      <th>average_rating</th>\n",
       "      <th>num_pages</th>\n",
       "      <th>ratings_count</th>\n",
       "      <th>title_and_subtitle</th>\n",
       "      <th>tagged_description</th>\n",
       "    </tr>\n",
       "  </thead>\n",
       "  <tbody>\n",
       "    <tr>\n",
       "      <th>107</th>\n",
       "      <td>9780060277406</td>\n",
       "      <td>0060277408</td>\n",
       "      <td>The Secret Garden Cookbook</td>\n",
       "      <td>Amy Cotler</td>\n",
       "      <td>Juvenile Nonfiction</td>\n",
       "      <td>http://books.google.com/books/content?id=c7E_H...</td>\n",
       "      <td>Frances Hodgson Burnett's The Secret Garden de...</td>\n",
       "      <td>1999.0</td>\n",
       "      <td>4.28</td>\n",
       "      <td>128.0</td>\n",
       "      <td>142.0</td>\n",
       "      <td>The Secret Garden Cookbook:Recipes Inspired by...</td>\n",
       "      <td>9780060277406 Frances Hodgson Burnett's The Se...</td>\n",
       "    </tr>\n",
       "    <tr>\n",
       "      <th>108</th>\n",
       "      <td>9780060278427</td>\n",
       "      <td>0060278420</td>\n",
       "      <td>Laura's Album</td>\n",
       "      <td>William Anderson</td>\n",
       "      <td>Juvenile Nonfiction</td>\n",
       "      <td>http://books.google.com/books/content?id=_zTkq...</td>\n",
       "      <td>Though best known as the author of the Little ...</td>\n",
       "      <td>1998.0</td>\n",
       "      <td>4.30</td>\n",
       "      <td>80.0</td>\n",
       "      <td>713.0</td>\n",
       "      <td>Laura's Album:A Remembrance Scrapbook of Laura...</td>\n",
       "      <td>9780060278427 Though best known as the author ...</td>\n",
       "    </tr>\n",
       "    <tr>\n",
       "      <th>228</th>\n",
       "      <td>9780060782139</td>\n",
       "      <td>0060782137</td>\n",
       "      <td>Time For Kids: Butterflies!</td>\n",
       "      <td>Editors of TIME For Kids</td>\n",
       "      <td>Juvenile Nonfiction</td>\n",
       "      <td>http://books.google.com/books/content?id=OdZxn...</td>\n",
       "      <td>Butterflies There are 20,000 different kinds o...</td>\n",
       "      <td>2006.0</td>\n",
       "      <td>4.00</td>\n",
       "      <td>32.0</td>\n",
       "      <td>20.0</td>\n",
       "      <td>Time For Kids: Butterflies!</td>\n",
       "      <td>9780060782139 Butterflies There are 20,000 dif...</td>\n",
       "    </tr>\n",
       "    <tr>\n",
       "      <th>267</th>\n",
       "      <td>9780060882600</td>\n",
       "      <td>0060882603</td>\n",
       "      <td>The Annotated Charlotte's Web</td>\n",
       "      <td>E. B. White</td>\n",
       "      <td>Juvenile Nonfiction</td>\n",
       "      <td>http://books.google.com/books/content?id=vaYYH...</td>\n",
       "      <td>Charlotte's Web, one of America's best-loved c...</td>\n",
       "      <td>2006.0</td>\n",
       "      <td>4.16</td>\n",
       "      <td>320.0</td>\n",
       "      <td>41.0</td>\n",
       "      <td>The Annotated Charlotte's Web</td>\n",
       "      <td>9780060882600 Charlotte's Web, one of America'...</td>\n",
       "    </tr>\n",
       "    <tr>\n",
       "      <th>434</th>\n",
       "      <td>9780064462044</td>\n",
       "      <td>0064462048</td>\n",
       "      <td>My Little House Crafts Book</td>\n",
       "      <td>Carolyn Strom Collins</td>\n",
       "      <td>Juvenile Nonfiction</td>\n",
       "      <td>http://books.google.com/books/content?id=lTzrs...</td>\n",
       "      <td>Make the same pioneer crafts that Laura did! I...</td>\n",
       "      <td>1998.0</td>\n",
       "      <td>4.05</td>\n",
       "      <td>64.0</td>\n",
       "      <td>56.0</td>\n",
       "      <td>My Little House Crafts Book:18 Projects from L...</td>\n",
       "      <td>9780064462044 Make the same pioneer crafts tha...</td>\n",
       "    </tr>\n",
       "  </tbody>\n",
       "</table>\n",
       "</div>"
      ],
      "text/plain": [
       "            isbn13      isbn10                          title  \\\n",
       "107  9780060277406  0060277408     The Secret Garden Cookbook   \n",
       "108  9780060278427  0060278420                  Laura's Album   \n",
       "228  9780060782139  0060782137    Time For Kids: Butterflies!   \n",
       "267  9780060882600  0060882603  The Annotated Charlotte's Web   \n",
       "434  9780064462044  0064462048    My Little House Crafts Book   \n",
       "\n",
       "                      authors           categories  \\\n",
       "107                Amy Cotler  Juvenile Nonfiction   \n",
       "108          William Anderson  Juvenile Nonfiction   \n",
       "228  Editors of TIME For Kids  Juvenile Nonfiction   \n",
       "267               E. B. White  Juvenile Nonfiction   \n",
       "434     Carolyn Strom Collins  Juvenile Nonfiction   \n",
       "\n",
       "                                             thumbnail  \\\n",
       "107  http://books.google.com/books/content?id=c7E_H...   \n",
       "108  http://books.google.com/books/content?id=_zTkq...   \n",
       "228  http://books.google.com/books/content?id=OdZxn...   \n",
       "267  http://books.google.com/books/content?id=vaYYH...   \n",
       "434  http://books.google.com/books/content?id=lTzrs...   \n",
       "\n",
       "                                           description  published_year  \\\n",
       "107  Frances Hodgson Burnett's The Secret Garden de...          1999.0   \n",
       "108  Though best known as the author of the Little ...          1998.0   \n",
       "228  Butterflies There are 20,000 different kinds o...          2006.0   \n",
       "267  Charlotte's Web, one of America's best-loved c...          2006.0   \n",
       "434  Make the same pioneer crafts that Laura did! I...          1998.0   \n",
       "\n",
       "     average_rating  num_pages  ratings_count  \\\n",
       "107            4.28      128.0          142.0   \n",
       "108            4.30       80.0          713.0   \n",
       "228            4.00       32.0           20.0   \n",
       "267            4.16      320.0           41.0   \n",
       "434            4.05       64.0           56.0   \n",
       "\n",
       "                                    title_and_subtitle  \\\n",
       "107  The Secret Garden Cookbook:Recipes Inspired by...   \n",
       "108  Laura's Album:A Remembrance Scrapbook of Laura...   \n",
       "228                        Time For Kids: Butterflies!   \n",
       "267                      The Annotated Charlotte's Web   \n",
       "434  My Little House Crafts Book:18 Projects from L...   \n",
       "\n",
       "                                    tagged_description  \n",
       "107  9780060277406 Frances Hodgson Burnett's The Se...  \n",
       "108  9780060278427 Though best known as the author ...  \n",
       "228  9780060782139 Butterflies There are 20,000 dif...  \n",
       "267  9780060882600 Charlotte's Web, one of America'...  \n",
       "434  9780064462044 Make the same pioneer crafts tha...  "
      ]
     },
     "execution_count": 13,
     "metadata": {},
     "output_type": "execute_result"
    }
   ],
   "source": [
    "books[books['categories'] == 'Juvenile Nonfiction'].head()"
   ]
  },
  {
   "cell_type": "code",
   "execution_count": 21,
   "metadata": {},
   "outputs": [
    {
     "data": {
      "text/html": [
       "<div>\n",
       "<style scoped>\n",
       "    .dataframe tbody tr th:only-of-type {\n",
       "        vertical-align: middle;\n",
       "    }\n",
       "\n",
       "    .dataframe tbody tr th {\n",
       "        vertical-align: top;\n",
       "    }\n",
       "\n",
       "    .dataframe thead th {\n",
       "        text-align: right;\n",
       "    }\n",
       "</style>\n",
       "<table border=\"1\" class=\"dataframe\">\n",
       "  <thead>\n",
       "    <tr style=\"text-align: right;\">\n",
       "      <th></th>\n",
       "      <th>isbn13</th>\n",
       "      <th>isbn10</th>\n",
       "      <th>title</th>\n",
       "      <th>authors</th>\n",
       "      <th>categories</th>\n",
       "      <th>thumbnail</th>\n",
       "      <th>description</th>\n",
       "      <th>published_year</th>\n",
       "      <th>average_rating</th>\n",
       "      <th>num_pages</th>\n",
       "      <th>ratings_count</th>\n",
       "      <th>title_and_subtitle</th>\n",
       "      <th>tagged_description</th>\n",
       "      <th>sample_categories</th>\n",
       "    </tr>\n",
       "  </thead>\n",
       "  <tbody>\n",
       "    <tr>\n",
       "      <th>0</th>\n",
       "      <td>9780002005883</td>\n",
       "      <td>0002005883</td>\n",
       "      <td>Gilead</td>\n",
       "      <td>Marilynne Robinson</td>\n",
       "      <td>Fiction</td>\n",
       "      <td>http://books.google.com/books/content?id=KQZCP...</td>\n",
       "      <td>A NOVEL THAT READERS and critics have been eag...</td>\n",
       "      <td>2004.0</td>\n",
       "      <td>3.85</td>\n",
       "      <td>247.0</td>\n",
       "      <td>361.0</td>\n",
       "      <td>Gilead</td>\n",
       "      <td>9780002005883 A NOVEL THAT READERS and critics...</td>\n",
       "      <td>Fiction</td>\n",
       "    </tr>\n",
       "    <tr>\n",
       "      <th>1</th>\n",
       "      <td>9780002261982</td>\n",
       "      <td>0002261987</td>\n",
       "      <td>Spider's Web</td>\n",
       "      <td>Charles Osborne;Agatha Christie</td>\n",
       "      <td>Detective and mystery stories</td>\n",
       "      <td>http://books.google.com/books/content?id=gA5GP...</td>\n",
       "      <td>A new 'Christie for Christmas' -- a full-lengt...</td>\n",
       "      <td>2000.0</td>\n",
       "      <td>3.83</td>\n",
       "      <td>241.0</td>\n",
       "      <td>5164.0</td>\n",
       "      <td>Spider's Web:A Novel</td>\n",
       "      <td>9780002261982 A new 'Christie for Christmas' -...</td>\n",
       "      <td>NaN</td>\n",
       "    </tr>\n",
       "    <tr>\n",
       "      <th>2</th>\n",
       "      <td>9780006178736</td>\n",
       "      <td>0006178731</td>\n",
       "      <td>Rage of angels</td>\n",
       "      <td>Sidney Sheldon</td>\n",
       "      <td>Fiction</td>\n",
       "      <td>http://books.google.com/books/content?id=FKo2T...</td>\n",
       "      <td>A memorable, mesmerizing heroine Jennifer -- b...</td>\n",
       "      <td>1993.0</td>\n",
       "      <td>3.93</td>\n",
       "      <td>512.0</td>\n",
       "      <td>29532.0</td>\n",
       "      <td>Rage of angels</td>\n",
       "      <td>9780006178736 A memorable, mesmerizing heroine...</td>\n",
       "      <td>Fiction</td>\n",
       "    </tr>\n",
       "    <tr>\n",
       "      <th>3</th>\n",
       "      <td>9780006280897</td>\n",
       "      <td>0006280897</td>\n",
       "      <td>The Four Loves</td>\n",
       "      <td>Clive Staples Lewis</td>\n",
       "      <td>Christian life</td>\n",
       "      <td>http://books.google.com/books/content?id=XhQ5X...</td>\n",
       "      <td>Lewis' work on the nature of love divides love...</td>\n",
       "      <td>2002.0</td>\n",
       "      <td>4.15</td>\n",
       "      <td>170.0</td>\n",
       "      <td>33684.0</td>\n",
       "      <td>The Four Loves</td>\n",
       "      <td>9780006280897 Lewis' work on the nature of lov...</td>\n",
       "      <td>NaN</td>\n",
       "    </tr>\n",
       "    <tr>\n",
       "      <th>4</th>\n",
       "      <td>9780006280934</td>\n",
       "      <td>0006280935</td>\n",
       "      <td>The Problem of Pain</td>\n",
       "      <td>Clive Staples Lewis</td>\n",
       "      <td>Christian life</td>\n",
       "      <td>http://books.google.com/books/content?id=Kk-uV...</td>\n",
       "      <td>\"In The Problem of Pain, C.S. Lewis, one of th...</td>\n",
       "      <td>2002.0</td>\n",
       "      <td>4.09</td>\n",
       "      <td>176.0</td>\n",
       "      <td>37569.0</td>\n",
       "      <td>The Problem of Pain</td>\n",
       "      <td>9780006280934 \"In The Problem of Pain, C.S. Le...</td>\n",
       "      <td>NaN</td>\n",
       "    </tr>\n",
       "  </tbody>\n",
       "</table>\n",
       "</div>"
      ],
      "text/plain": [
       "          isbn13      isbn10                title  \\\n",
       "0  9780002005883  0002005883               Gilead   \n",
       "1  9780002261982  0002261987         Spider's Web   \n",
       "2  9780006178736  0006178731       Rage of angels   \n",
       "3  9780006280897  0006280897       The Four Loves   \n",
       "4  9780006280934  0006280935  The Problem of Pain   \n",
       "\n",
       "                           authors                     categories  \\\n",
       "0               Marilynne Robinson                        Fiction   \n",
       "1  Charles Osborne;Agatha Christie  Detective and mystery stories   \n",
       "2                   Sidney Sheldon                        Fiction   \n",
       "3              Clive Staples Lewis                 Christian life   \n",
       "4              Clive Staples Lewis                 Christian life   \n",
       "\n",
       "                                           thumbnail  \\\n",
       "0  http://books.google.com/books/content?id=KQZCP...   \n",
       "1  http://books.google.com/books/content?id=gA5GP...   \n",
       "2  http://books.google.com/books/content?id=FKo2T...   \n",
       "3  http://books.google.com/books/content?id=XhQ5X...   \n",
       "4  http://books.google.com/books/content?id=Kk-uV...   \n",
       "\n",
       "                                         description  published_year  \\\n",
       "0  A NOVEL THAT READERS and critics have been eag...          2004.0   \n",
       "1  A new 'Christie for Christmas' -- a full-lengt...          2000.0   \n",
       "2  A memorable, mesmerizing heroine Jennifer -- b...          1993.0   \n",
       "3  Lewis' work on the nature of love divides love...          2002.0   \n",
       "4  \"In The Problem of Pain, C.S. Lewis, one of th...          2002.0   \n",
       "\n",
       "   average_rating  num_pages  ratings_count    title_and_subtitle  \\\n",
       "0            3.85      247.0          361.0                Gilead   \n",
       "1            3.83      241.0         5164.0  Spider's Web:A Novel   \n",
       "2            3.93      512.0        29532.0        Rage of angels   \n",
       "3            4.15      170.0        33684.0        The Four Loves   \n",
       "4            4.09      176.0        37569.0   The Problem of Pain   \n",
       "\n",
       "                                  tagged_description sample_categories  \n",
       "0  9780002005883 A NOVEL THAT READERS and critics...           Fiction  \n",
       "1  9780002261982 A new 'Christie for Christmas' -...               NaN  \n",
       "2  9780006178736 A memorable, mesmerizing heroine...           Fiction  \n",
       "3  9780006280897 Lewis' work on the nature of lov...               NaN  \n",
       "4  9780006280934 \"In The Problem of Pain, C.S. Le...               NaN  "
      ]
     },
     "execution_count": 21,
     "metadata": {},
     "output_type": "execute_result"
    }
   ],
   "source": [
    "cateogry_mapping = {'Fiction': 'Fiction',\n",
    " 'Juvenile Fiction': \"Children's Fiction\",\n",
    " 'Biography & Autobiography': 'Nonfiction',\n",
    " 'History': 'Nonfiction',\n",
    " 'Literary Criticism': 'Nonfiction',\n",
    " 'Philosophy': 'Nonfiction',\n",
    " 'Religion': 'Nonfiction',\n",
    " 'Comics & Graphic Novels': 'Fiction',\n",
    " 'Drama': 'Fiction',\n",
    " 'Juvenile Nonfiction': \"Children's Nonfiction\",\n",
    " 'Science': 'Nonfiction',\n",
    " 'Poetry': 'Fiction'\n",
    " }\n",
    "books['sample_categories'] = books['categories'].map(cateogry_mapping)\n",
    "books.head()"
   ]
  },
  {
   "cell_type": "code",
   "execution_count": 23,
   "metadata": {},
   "outputs": [
    {
     "data": {
      "text/plain": [
       "(3743, 14)"
      ]
     },
     "execution_count": 23,
     "metadata": {},
     "output_type": "execute_result"
    }
   ],
   "source": [
    "books[~(books['sample_categories'].isna())].shape"
   ]
  },
  {
   "cell_type": "code",
   "execution_count": 26,
   "metadata": {},
   "outputs": [
    {
     "data": {
      "application/vnd.jupyter.widget-view+json": {
       "model_id": "39358473f60c49b8ab10f8fa1a1acb65",
       "version_major": 2,
       "version_minor": 0
      },
      "text/plain": [
       "config.json:   0%|          | 0.00/1.15k [00:00<?, ?B/s]"
      ]
     },
     "metadata": {},
     "output_type": "display_data"
    },
    {
     "data": {
      "application/vnd.jupyter.widget-view+json": {
       "model_id": "6e6ddd5b436740f69b7f82deed0813b5",
       "version_major": 2,
       "version_minor": 0
      },
      "text/plain": [
       "model.safetensors:   0%|          | 0.00/1.63G [00:00<?, ?B/s]"
      ]
     },
     "metadata": {},
     "output_type": "display_data"
    },
    {
     "data": {
      "application/vnd.jupyter.widget-view+json": {
       "model_id": "490e79e1a48742e08a02d4bc59997b6c",
       "version_major": 2,
       "version_minor": 0
      },
      "text/plain": [
       "tokenizer_config.json:   0%|          | 0.00/26.0 [00:00<?, ?B/s]"
      ]
     },
     "metadata": {},
     "output_type": "display_data"
    },
    {
     "data": {
      "application/vnd.jupyter.widget-view+json": {
       "model_id": "a8a75554b39a40a7b5bf7ec923bd2918",
       "version_major": 2,
       "version_minor": 0
      },
      "text/plain": [
       "vocab.json:   0%|          | 0.00/899k [00:00<?, ?B/s]"
      ]
     },
     "metadata": {},
     "output_type": "display_data"
    },
    {
     "data": {
      "application/vnd.jupyter.widget-view+json": {
       "model_id": "b7db9b0ea3f64620a03034d3dc4a13c5",
       "version_major": 2,
       "version_minor": 0
      },
      "text/plain": [
       "merges.txt:   0%|          | 0.00/456k [00:00<?, ?B/s]"
      ]
     },
     "metadata": {},
     "output_type": "display_data"
    },
    {
     "data": {
      "application/vnd.jupyter.widget-view+json": {
       "model_id": "b65c61d68c3b4716bb31bfe1306c47cf",
       "version_major": 2,
       "version_minor": 0
      },
      "text/plain": [
       "tokenizer.json:   0%|          | 0.00/1.36M [00:00<?, ?B/s]"
      ]
     },
     "metadata": {},
     "output_type": "display_data"
    },
    {
     "name": "stderr",
     "output_type": "stream",
     "text": [
      "Device set to use cpu\n"
     ]
    }
   ],
   "source": [
    "fiction_categories = ['Fiction', 'Nonfiction']\n",
    "pipe = pipeline('zero-shot-classification', model='facebook/bart-large-mnli')"
   ]
  },
  {
   "cell_type": "code",
   "execution_count": 30,
   "metadata": {},
   "outputs": [
    {
     "data": {
      "text/plain": [
       "'A NOVEL THAT READERS and critics have been eagerly anticipating for over a decade, Gilead is an astonishingly imagined story of remarkable lives. John Ames is a preacher, the son of a preacher and the grandson (both maternal and paternal) of preachers. It’s 1956 in Gilead, Iowa, towards the end of the Reverend Ames’s life, and he is absorbed in recording his family’s story, a legacy for the young son he will never see grow up. Haunted by his grandfather’s presence, John tells of the rift between his grandfather and his father: the elder, an angry visionary who fought for the abolitionist cause, and his son, an ardent pacifist. He is troubled, too, by his prodigal namesake, Jack (John Ames) Boughton, his best friend’s lost son who returns to Gilead searching for forgiveness and redemption. Told in John Ames’s joyous, rambling voice that finds beauty, humour and truth in the smallest of life’s details, Gilead is a song of celebration and acceptance of the best and the worst the world has to offer. At its heart is a tale of the sacred bonds between fathers and sons, pitch-perfect in style and story, set to dazzle critics and readers alike.'"
      ]
     },
     "execution_count": 30,
     "metadata": {},
     "output_type": "execute_result"
    }
   ],
   "source": [
    "seq = books.loc[books['sample_categories'] == 'Fiction', 'description'].reset_index(drop=True)[0]\n",
    "seq"
   ]
  },
  {
   "cell_type": "code",
   "execution_count": 34,
   "metadata": {},
   "outputs": [
    {
     "data": {
      "text/plain": [
       "{'sequence': 'A NOVEL THAT READERS and critics have been eagerly anticipating for over a decade, Gilead is an astonishingly imagined story of remarkable lives. John Ames is a preacher, the son of a preacher and the grandson (both maternal and paternal) of preachers. It’s 1956 in Gilead, Iowa, towards the end of the Reverend Ames’s life, and he is absorbed in recording his family’s story, a legacy for the young son he will never see grow up. Haunted by his grandfather’s presence, John tells of the rift between his grandfather and his father: the elder, an angry visionary who fought for the abolitionist cause, and his son, an ardent pacifist. He is troubled, too, by his prodigal namesake, Jack (John Ames) Boughton, his best friend’s lost son who returns to Gilead searching for forgiveness and redemption. Told in John Ames’s joyous, rambling voice that finds beauty, humour and truth in the smallest of life’s details, Gilead is a song of celebration and acceptance of the best and the worst the world has to offer. At its heart is a tale of the sacred bonds between fathers and sons, pitch-perfect in style and story, set to dazzle critics and readers alike.',\n",
       " 'labels': ['Fiction', 'Nonfiction'],\n",
       " 'scores': [0.843826949596405, 0.15617306530475616]}"
      ]
     },
     "execution_count": 34,
     "metadata": {},
     "output_type": "execute_result"
    }
   ],
   "source": [
    "predicted_result = pipe(seq, fiction_categories)\n",
    "predicted_result"
   ]
  },
  {
   "cell_type": "code",
   "execution_count": 36,
   "metadata": {},
   "outputs": [
    {
     "data": {
      "text/plain": [
       "'Fiction'"
      ]
     },
     "execution_count": 36,
     "metadata": {},
     "output_type": "execute_result"
    }
   ],
   "source": [
    "max_index = np.argmax(predicted_result['scores'])\n",
    "max_label = predicted_result['labels'][max_index]\n",
    "max_label"
   ]
  },
  {
   "cell_type": "code",
   "execution_count": 37,
   "metadata": {},
   "outputs": [],
   "source": [
    "def generate_prediction(sequence, categories):\n",
    "    prediction = pipe(sequence, categories)\n",
    "    max_index = np.argmax(prediction['scores'])\n",
    "    max_label = prediction['labels'][max_index]\n",
    "    return max_label"
   ]
  },
  {
   "cell_type": "code",
   "execution_count": 38,
   "metadata": {},
   "outputs": [
    {
     "data": {
      "text/plain": [
       "'Fiction'"
      ]
     },
     "execution_count": 38,
     "metadata": {},
     "output_type": "execute_result"
    }
   ],
   "source": [
    "generate_prediction(seq, fiction_categories)"
   ]
  },
  {
   "cell_type": "code",
   "execution_count": 46,
   "metadata": {},
   "outputs": [
    {
     "name": "stderr",
     "output_type": "stream",
     "text": [
      "  0%|          | 0/600 [00:00<?, ?it/s]"
     ]
    },
    {
     "name": "stderr",
     "output_type": "stream",
     "text": [
      "100%|██████████| 600/600 [25:11<00:00,  2.52s/it]\n"
     ]
    }
   ],
   "source": [
    "from tqdm import tqdm \n",
    "\n",
    "expected = []\n",
    "predictions = []\n",
    "\n",
    "for i in tqdm(range(600)):\n",
    "    seq, cat = books.loc[~(books['sample_categories'].isna()), ['description', 'sample_categories']].sample(1).values[0]\n",
    "    predicted = generate_prediction(seq, fiction_categories)\n",
    "    expected.append(cat)\n",
    "    predictions.append(predicted)"
   ]
  },
  {
   "cell_type": "code",
   "execution_count": 49,
   "metadata": {},
   "outputs": [
    {
     "data": {
      "text/html": [
       "<div>\n",
       "<style scoped>\n",
       "    .dataframe tbody tr th:only-of-type {\n",
       "        vertical-align: middle;\n",
       "    }\n",
       "\n",
       "    .dataframe tbody tr th {\n",
       "        vertical-align: top;\n",
       "    }\n",
       "\n",
       "    .dataframe thead th {\n",
       "        text-align: right;\n",
       "    }\n",
       "</style>\n",
       "<table border=\"1\" class=\"dataframe\">\n",
       "  <thead>\n",
       "    <tr style=\"text-align: right;\">\n",
       "      <th></th>\n",
       "      <th>actual</th>\n",
       "      <th>predicted</th>\n",
       "    </tr>\n",
       "  </thead>\n",
       "  <tbody>\n",
       "    <tr>\n",
       "      <th>0</th>\n",
       "      <td>Fiction</td>\n",
       "      <td>Fiction</td>\n",
       "    </tr>\n",
       "    <tr>\n",
       "      <th>1</th>\n",
       "      <td>Nonfiction</td>\n",
       "      <td>Nonfiction</td>\n",
       "    </tr>\n",
       "    <tr>\n",
       "      <th>2</th>\n",
       "      <td>Fiction</td>\n",
       "      <td>Nonfiction</td>\n",
       "    </tr>\n",
       "    <tr>\n",
       "      <th>3</th>\n",
       "      <td>Fiction</td>\n",
       "      <td>Fiction</td>\n",
       "    </tr>\n",
       "    <tr>\n",
       "      <th>4</th>\n",
       "      <td>Children's Fiction</td>\n",
       "      <td>Fiction</td>\n",
       "    </tr>\n",
       "  </tbody>\n",
       "</table>\n",
       "</div>"
      ],
      "text/plain": [
       "               actual   predicted\n",
       "0             Fiction     Fiction\n",
       "1          Nonfiction  Nonfiction\n",
       "2             Fiction  Nonfiction\n",
       "3             Fiction     Fiction\n",
       "4  Children's Fiction     Fiction"
      ]
     },
     "execution_count": 49,
     "metadata": {},
     "output_type": "execute_result"
    }
   ],
   "source": [
    "prediction_df = pd.DataFrame({'actual': expected, 'predicted': predictions})\n",
    "prediction_df.head()"
   ]
  },
  {
   "cell_type": "code",
   "execution_count": 50,
   "metadata": {},
   "outputs": [
    {
     "data": {
      "text/html": [
       "<div>\n",
       "<style scoped>\n",
       "    .dataframe tbody tr th:only-of-type {\n",
       "        vertical-align: middle;\n",
       "    }\n",
       "\n",
       "    .dataframe tbody tr th {\n",
       "        vertical-align: top;\n",
       "    }\n",
       "\n",
       "    .dataframe thead th {\n",
       "        text-align: right;\n",
       "    }\n",
       "</style>\n",
       "<table border=\"1\" class=\"dataframe\">\n",
       "  <thead>\n",
       "    <tr style=\"text-align: right;\">\n",
       "      <th></th>\n",
       "      <th>actual</th>\n",
       "      <th>predicted</th>\n",
       "      <th>correct_prediction</th>\n",
       "    </tr>\n",
       "  </thead>\n",
       "  <tbody>\n",
       "    <tr>\n",
       "      <th>0</th>\n",
       "      <td>Fiction</td>\n",
       "      <td>Fiction</td>\n",
       "      <td>1</td>\n",
       "    </tr>\n",
       "    <tr>\n",
       "      <th>1</th>\n",
       "      <td>Nonfiction</td>\n",
       "      <td>Nonfiction</td>\n",
       "      <td>1</td>\n",
       "    </tr>\n",
       "    <tr>\n",
       "      <th>2</th>\n",
       "      <td>Fiction</td>\n",
       "      <td>Nonfiction</td>\n",
       "      <td>0</td>\n",
       "    </tr>\n",
       "    <tr>\n",
       "      <th>3</th>\n",
       "      <td>Fiction</td>\n",
       "      <td>Fiction</td>\n",
       "      <td>1</td>\n",
       "    </tr>\n",
       "    <tr>\n",
       "      <th>4</th>\n",
       "      <td>Children's Fiction</td>\n",
       "      <td>Fiction</td>\n",
       "      <td>0</td>\n",
       "    </tr>\n",
       "  </tbody>\n",
       "</table>\n",
       "</div>"
      ],
      "text/plain": [
       "               actual   predicted  correct_prediction\n",
       "0             Fiction     Fiction                   1\n",
       "1          Nonfiction  Nonfiction                   1\n",
       "2             Fiction  Nonfiction                   0\n",
       "3             Fiction     Fiction                   1\n",
       "4  Children's Fiction     Fiction                   0"
      ]
     },
     "execution_count": 50,
     "metadata": {},
     "output_type": "execute_result"
    }
   ],
   "source": [
    "prediction_df['correct_prediction'] = np.where(prediction_df['actual'] == prediction_df['predicted'], 1, 0)\n",
    "prediction_df.head()"
   ]
  },
  {
   "cell_type": "code",
   "execution_count": 51,
   "metadata": {},
   "outputs": [
    {
     "data": {
      "text/plain": [
       "0.6116666666666667"
      ]
     },
     "execution_count": 51,
     "metadata": {},
     "output_type": "execute_result"
    }
   ],
   "source": [
    "prediction_df['correct_prediction'].mean()"
   ]
  },
  {
   "cell_type": "code",
   "execution_count": null,
   "metadata": {},
   "outputs": [],
   "source": []
  }
 ],
 "metadata": {
  "kernelspec": {
   "display_name": "sbr-env",
   "language": "python",
   "name": "python3"
  },
  "language_info": {
   "codemirror_mode": {
    "name": "ipython",
    "version": 3
   },
   "file_extension": ".py",
   "mimetype": "text/x-python",
   "name": "python",
   "nbconvert_exporter": "python",
   "pygments_lexer": "ipython3",
   "version": "3.12.4"
  }
 },
 "nbformat": 4,
 "nbformat_minor": 2
}
